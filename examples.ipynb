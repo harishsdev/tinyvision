{
 "cells": [
  {
   "cell_type": "code",
   "execution_count": 3,
   "id": "9a329686",
   "metadata": {},
   "outputs": [],
   "source": [
    "import cv2\n",
    "import numpy as np\n",
    "\n",
    "\n",
    "def main():\n",
    "    capture = cv2.VideoCapture(0)\n",
    "\n",
    "    while True:\n",
    "        ret, frame = capture.read()\n",
    "\n",
    "        gray_frame = cv2.cvtColor(frame, cv2.COLOR_BGR2GRAY)\n",
    "\n",
    "        edges_detec = cv2.Canny(gray_frame, 50, 250, apertureSize=5, L2gradient=True)\n",
    "\n",
    "        hough_lines = cv2.HoughLines(edges_detec, 1, np.pi / 180, 200)\n",
    "\n",
    "        if hough_lines is not None:\n",
    "            for rho, theta in hough_lines[0]:\n",
    "                x0 = rho * np.cos(theta)\n",
    "                y0 = rho * np.sin(theta)\n",
    "\n",
    "                ptsX = (int(x0 + 1000 * (-np.sin(theta))), int(y0 + 1000 * (np.cos(theta))))\n",
    "                ptsY = (int(x0 - 1000 * (-np.sin(theta))), int(y0 - 1000 * (np.cos(theta))))\n",
    "                cv2.line(frame, ptsX, ptsY, (0, 255, 0), 2)\n",
    "\n",
    "        cv2.imshow(\"Capture Frame\", frame)\n",
    "\n",
    "        if cv2.waitKey(1) == 27:\n",
    "            break\n",
    "\n",
    "    cv2.destroyAllWindows()\n",
    "    capture.release()\n",
    "\n",
    "\n",
    "if __name__ == '__main__':\n",
    "    main()"
   ]
  },
  {
   "cell_type": "code",
   "execution_count": null,
   "id": "3fda4a0b",
   "metadata": {},
   "outputs": [],
   "source": []
  }
 ],
 "metadata": {
  "kernelspec": {
   "display_name": "Python 3",
   "language": "python",
   "name": "python3"
  },
  "language_info": {
   "codemirror_mode": {
    "name": "ipython",
    "version": 3
   },
   "file_extension": ".py",
   "mimetype": "text/x-python",
   "name": "python",
   "nbconvert_exporter": "python",
   "pygments_lexer": "ipython3",
   "version": "3.8.8"
  }
 },
 "nbformat": 4,
 "nbformat_minor": 5
}
