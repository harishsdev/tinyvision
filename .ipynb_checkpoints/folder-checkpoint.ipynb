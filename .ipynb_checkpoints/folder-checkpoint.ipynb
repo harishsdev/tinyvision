{
 "cells": [
  {
   "cell_type": "code",
   "execution_count": 3,
   "id": "a3860cc0",
   "metadata": {},
   "outputs": [
    {
     "data": {
      "text/plain": [
       "'\\n\\nImageFolder\\nA generic data loader where the images are arranged in this way:\\n\\nroot/dog/xxx.png\\nroot/dog/xxy.png\\nroot/dog/xxz.png\\n\\nroot/cat/123.png\\nroot/cat/nsdf3.png\\nroot/cat/asd932_.png\\ndset.ImageFolder(root=\"root folder path\", [transform, target_transform])\\n\\nIt has the members:\\n\\nself.classes - The class names as a list\\nself.class_to_idx - Corresponding class indices\\nself.imgs - The list of (image path, class-index) tuples\\n\\n'"
      ]
     },
     "execution_count": 3,
     "metadata": {},
     "output_type": "execute_result"
    }
   ],
   "source": [
    "\"\"\"\n",
    "\n",
    "ImageFolder\n",
    "A generic data loader where the images are arranged in this way:\n",
    "\n",
    "root/dog/xxx.png\n",
    "root/dog/xxy.png\n",
    "root/dog/xxz.png\n",
    "\n",
    "root/cat/123.png\n",
    "root/cat/nsdf3.png\n",
    "root/cat/asd932_.png\n",
    "dset.ImageFolder(root=\"root folder path\", [transform, target_transform])\n",
    "\n",
    "-->ImageFolder class\n",
    "    methods\n",
    "    1.find_classes\n",
    "    2.make_dataset\n",
    "    \n",
    "\n",
    "It has the members:\n",
    "\n",
    "self.classes - The class names as a list\n",
    "self.class_to_idx - Corresponding class indices\n",
    "self.imgs - The list of (image path, class-index) tuples\n",
    "\n",
    "\"\"\""
   ]
  },
  {
   "cell_type": "code",
   "execution_count": 33,
   "id": "30f27661",
   "metadata": {},
   "outputs": [],
   "source": [
    "\n",
    "import os\n",
    "\"\"\"\n",
    "num_of_clases code\n",
    "\n",
    "returns folder names and numbers of classes as 0,1,2..\n",
    "\n",
    "ex:-\n",
    "\n",
    "1.check the root and its dirs\n",
    "\n",
    "2.puts numbers for classess\n",
    "\n",
    "3.attach the path root/dogs and root/cats\n",
    "\n",
    "\n",
    "\n",
    "args:-i/p is root folder\n",
    "\n",
    "\"\"\"\n",
    "\n",
    "root=r'data'\n"
   ]
  },
  {
   "cell_type": "code",
   "execution_count": 34,
   "id": "e6094728",
   "metadata": {},
   "outputs": [],
   "source": [
    "classes=os.listdir(root)"
   ]
  },
  {
   "cell_type": "code",
   "execution_count": 35,
   "id": "0b163732",
   "metadata": {},
   "outputs": [
    {
     "data": {
      "text/plain": [
       "['cats', 'dogs']"
      ]
     },
     "execution_count": 35,
     "metadata": {},
     "output_type": "execute_result"
    }
   ],
   "source": [
    "classes"
   ]
  },
  {
   "cell_type": "code",
   "execution_count": 37,
   "id": "2c38610c",
   "metadata": {},
   "outputs": [],
   "source": [
    "classes_id={classes[i]:i for i in range(len(classes))}"
   ]
  },
  {
   "cell_type": "code",
   "execution_count": 38,
   "id": "21ad0a99",
   "metadata": {},
   "outputs": [
    {
     "data": {
      "text/plain": [
       "{'cats': 0, 'dogs': 1}"
      ]
     },
     "execution_count": 38,
     "metadata": {},
     "output_type": "execute_result"
    }
   ],
   "source": [
    "classes_id"
   ]
  },
  {
   "cell_type": "code",
   "execution_count": 46,
   "id": "c44bf801",
   "metadata": {},
   "outputs": [],
   "source": [
    "IMG_EXTENSIONS = [\n",
    "    '.jpg', '.JPG', '.jpeg', '.JPEG',\n",
    "    '.png', '.PNG', '.ppm', '.PPM', '.bmp', '.BMP',\n",
    "]\n",
    "def isfilename(img):\n",
    "    return any(img.endswith(extensions) for extension in EXTENSIONS)"
   ]
  },
  {
   "cell_type": "code",
   "execution_count": 42,
   "id": "108d0e7d",
   "metadata": {},
   "outputs": [],
   "source": [
    "#code to prepare the tuple of images  and its classes\n",
    "def images()"
   ]
  },
  {
   "cell_type": "code",
   "execution_count": 44,
   "id": "a03a4648",
   "metadata": {},
   "outputs": [
    {
     "data": {
      "text/plain": [
       "'data\\\\dog.12498.jpg'"
      ]
     },
     "execution_count": 44,
     "metadata": {},
     "output_type": "execute_result"
    }
   ],
   "source": [
    "image"
   ]
  },
  {
   "cell_type": "code",
   "execution_count": 48,
   "id": "5a6c71fc",
   "metadata": {},
   "outputs": [],
   "source": [
    "import torch.utils.data as data"
   ]
  },
  {
   "cell_type": "code",
   "execution_count": null,
   "id": "d9bfa347",
   "metadata": {},
   "outputs": [],
   "source": [
    "def findids(root):\n",
    "    path=os.listdir(path)"
   ]
  },
  {
   "cell_type": "code",
   "execution_count": null,
   "id": "264c95fb",
   "metadata": {},
   "outputs": [],
   "source": []
  },
  {
   "cell_type": "code",
   "execution_count": 51,
   "id": "3e4487e0",
   "metadata": {},
   "outputs": [],
   "source": [
    "\"\"\"\n",
    "\n",
    "they shold return classes and classes_ids\n",
    "\n",
    "{'dog',1} \n",
    "\n",
    "\"\"\"\n",
    "IMG_EXTENSIONS = [\n",
    "    '.jpg', '.JPG', '.jpeg', '.JPEG',\n",
    "    '.png', '.PNG', '.ppm', '.PPM', '.bmp', '.BMP',\n",
    "]\n",
    "\n",
    "def is_image_file(filename):\n",
    "    return any(filename.endswith(extension) for extension in IMG_EXTENSIONS)\n"
   ]
  },
  {
   "cell_type": "code",
   "execution_count": null,
   "id": "608dcae8",
   "metadata": {},
   "outputs": [],
   "source": []
  },
  {
   "cell_type": "code",
   "execution_count": 52,
   "id": "fee09537",
   "metadata": {},
   "outputs": [],
   "source": [
    "def findids(root):\n",
    "    classes=os.listdir(root)\n",
    "    class_ids={classes[i]:i for i in range(len(classes))}\n",
    "    return classes,class_ids\n"
   ]
  },
  {
   "cell_type": "code",
   "execution_count": 53,
   "id": "1bd8b4c6",
   "metadata": {},
   "outputs": [],
   "source": [
    "def make_dataset(dir, class_to_idx):\n",
    "    images = []\n",
    "    for target in os.listdir(dir):\n",
    "        d = os.path.join(dir, target)\n",
    "        if not os.path.isdir(d):\n",
    "            continue\n",
    "\n",
    "        for filename in os.listdir(d):\n",
    "            if is_image_file(filename):\n",
    "                path = '{0}/{1}'.format(target, filename)\n",
    "                item = (path, class_to_idx[target])\n",
    "                images.append(item)\n",
    "\n",
    "    return images"
   ]
  },
  {
   "cell_type": "markdown",
   "id": "6453a013",
   "metadata": {},
   "source": [
    "def make_dataset(dir, class_to_idx):\n",
    "    images = []\n",
    "    for target in os.listdir(dir):\n",
    "        d = os.path.join(dir, target)\n",
    "        if not os.path.isdir(d):\n",
    "            continue\n",
    "\n",
    "        for filename in os.listdir(d):\n",
    "            if is_image_file(filename):\n",
    "                path = '{0}/{1}'.format(target, filename)\n",
    "                item = (path, class_to_idx[target])\n",
    "                images.append(item)\n",
    "\n",
    "    return images"
   ]
  },
  {
   "cell_type": "code",
   "execution_count": 54,
   "id": "3c539aad",
   "metadata": {},
   "outputs": [],
   "source": [
    "from torch.utils.data import Dataset \n",
    "from PIL import Image\n",
    "import os"
   ]
  },
  {
   "cell_type": "code",
   "execution_count": 83,
   "id": "8188ae58",
   "metadata": {},
   "outputs": [],
   "source": [
    "import torch.utils.data as data\n",
    "\n",
    "from PIL import Image\n",
    "import os\n",
    "import os.path\n",
    "\n",
    "#IMG_EXTENSIONS = [\n",
    " #   '.jpg', '.JPG', '.jpeg', '.JPEG',\n",
    " #   '.png', '.PNG', '.ppm', '.PPM', '.bmp', '.BMP',\n",
    "#]\n",
    "\n",
    "#def is_image_file(filename):\n",
    " #   return any(filename.endswith(extension) for extension in IMG_EXTENSIONS)\n",
    "\n",
    "def find_classes(root_path):\n",
    "    classes = os.listdir(root_path)\n",
    "    class_to_idx = {classes[i]: i for i in range(len(classes))}\n",
    "    return classes, class_to_idx\n",
    "\n",
    "def make_dataset(dir, class_to_idx):\n",
    "    images = []\n",
    "    for target in os.listdir(dir):\n",
    "        d = os.path.join(dir, target)\n",
    "       # if not os.path.isdir(d):\n",
    "        #    continue\n",
    "\n",
    "        for filename in os.listdir(d):\n",
    "           # if is_image_file(filename):\n",
    "                path = '{0}/{1}'.format(target, filename)\n",
    "                item = (path, class_to_idx[target])\n",
    "                images.append(item)\n",
    "\n",
    "    return images\n",
    "\n",
    "class ImageFolder_1(data.Dataset):\n",
    "    def __init__(self, root, transform=None, target_transform=None):\n",
    "        classes, class_to_idx = find_classes(root)\n",
    "        imgs = make_dataset(root, class_to_idx)\n",
    "\n",
    "        self.root = root\n",
    "        self.imgs = imgs\n",
    "        self.classes = classes\n",
    "        self.class_to_idx = class_to_idx\n",
    "        self.transform = transform\n",
    "        self.target_transform = target_transform\n",
    "\n",
    "    def __getitem__(self, index):\n",
    "        path, target = self.imgs[index]\n",
    "        img = Image.open(os.path.join(self.root, path)).convert('RGB')\n",
    "        return img, target\n",
    "\n",
    "    def __len__(self):\n",
    "        return len(self.imgs)\n"
   ]
  },
  {
   "cell_type": "code",
   "execution_count": 84,
   "id": "c9782c49",
   "metadata": {},
   "outputs": [],
   "source": [
    "#Test Code\n",
    "imgs=ImageFolder_1(r'D:\\contrib\\tvcon2\\tinyvision\\data')"
   ]
  },
  {
   "cell_type": "code",
   "execution_count": 89,
   "id": "cb3896e5",
   "metadata": {},
   "outputs": [
    {
     "ename": "TypeError",
     "evalue": "'method' object is not subscriptable",
     "output_type": "error",
     "traceback": [
      "\u001b[1;31m---------------------------------------------------------------------------\u001b[0m",
      "\u001b[1;31mTypeError\u001b[0m                                 Traceback (most recent call last)",
      "\u001b[1;32m<ipython-input-89-3ce5825579c7>\u001b[0m in \u001b[0;36m<module>\u001b[1;34m\u001b[0m\n\u001b[1;32m----> 1\u001b[1;33m \u001b[0mimgs\u001b[0m\u001b[1;33m.\u001b[0m\u001b[0m__getitem__\u001b[0m\u001b[1;33m[\u001b[0m\u001b[1;36m0\u001b[0m\u001b[1;33m]\u001b[0m\u001b[1;33m\u001b[0m\u001b[1;33m\u001b[0m\u001b[0m\n\u001b[0m",
      "\u001b[1;31mTypeError\u001b[0m: 'method' object is not subscriptable"
     ]
    }
   ],
   "source": []
  },
  {
   "cell_type": "code",
   "execution_count": null,
   "id": "26271a44",
   "metadata": {},
   "outputs": [],
   "source": []
  },
  {
   "cell_type": "code",
   "execution_count": null,
   "id": "3dc3182a",
   "metadata": {},
   "outputs": [],
   "source": []
  },
  {
   "cell_type": "code",
   "execution_count": null,
   "id": "d0fa624b",
   "metadata": {},
   "outputs": [],
   "source": []
  }
 ],
 "metadata": {
  "kernelspec": {
   "display_name": "Python 3",
   "language": "python",
   "name": "python3"
  },
  "language_info": {
   "codemirror_mode": {
    "name": "ipython",
    "version": 3
   },
   "file_extension": ".py",
   "mimetype": "text/x-python",
   "name": "python",
   "nbconvert_exporter": "python",
   "pygments_lexer": "ipython3",
   "version": "3.8.8"
  }
 },
 "nbformat": 4,
 "nbformat_minor": 5
}
